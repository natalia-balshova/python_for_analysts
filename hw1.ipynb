{
 "cells": [
  {
   "cell_type": "markdown",
   "id": "1da49d85",
   "metadata": {},
   "source": [
    "## Условие 1:\n",
    "Оформляйте ноутбук, используя эти советы:  \n",
    "Номер задачи - заголовок 2  \n",
    "Номер подзадачи - заголовок 3  \n",
    "Предоставленные наборы данных оформляйте, как код  \n",
    "Рекомендации для преподавателей по оценке задания:  \n",
    "Смотреть, чтобы студент красиво оформлял ноутбук, использовал ячейки с текстом, указывал номера заданий  "
   ]
  },
  {
   "cell_type": "markdown",
   "id": "5dfb29e3",
   "metadata": {},
   "source": [
    "## Условие 2:\n",
    "На складе лежат разные фрукты в разном количестве.  \n",
    "Нужно написать функцию, которая на вход принимает любое количество названий фруктов и их количество, а возвращает общее количество фруктов на складе"
   ]
  },
  {
   "cell_type": "code",
   "execution_count": 12,
   "id": "c2bfe56f",
   "metadata": {},
   "outputs": [],
   "source": [
    "def counting(**kwargs):\n",
    "    print(f'Количество фруктов: {sum(kwargs.values())}')"
   ]
  },
  {
   "cell_type": "code",
   "execution_count": 14,
   "id": "f637c1e4",
   "metadata": {},
   "outputs": [
    {
     "name": "stdout",
     "output_type": "stream",
     "text": [
      "Количество фруктов: 26\n"
     ]
    }
   ],
   "source": [
    "counting(apple=5, pear=8, pineapple=3, peach=10)"
   ]
  },
  {
   "cell_type": "markdown",
   "id": "e3f02cec",
   "metadata": {},
   "source": [
    "## Условие 3:\n",
    "Дан список с затратами на рекламу. Но в данных есть ошибки, некоторые затраты имеют отрицательную величину. Удалите такие значения из списка и посчитайте суммарные затраты  \n",
    "[100, 125, -90, 345, 655, -1, 0, 200]  \n",
    "Используйте list comprehensions"
   ]
  },
  {
   "cell_type": "code",
   "execution_count": 19,
   "id": "f0211eeb",
   "metadata": {},
   "outputs": [
    {
     "name": "stdout",
     "output_type": "stream",
     "text": [
      "Корректный список с затратами на рекламу: [100, 125, 345, 655, 0, 200]\n",
      "Суммарные зараты: 1425\n"
     ]
    }
   ],
   "source": [
    "cost_list = [100, 125, -90, 345, 655, -1, 0, 200]\n",
    "new_cost_list = [i for i in cost_list if i >= 0]\n",
    "print(f'Корректный список с затратами на рекламу: {new_cost_list}')\n",
    "print(f'Суммарные зараты: {sum(new_cost_list)}')"
   ]
  },
  {
   "cell_type": "markdown",
   "id": "b6fb1cb1",
   "metadata": {},
   "source": [
    "## Условие 4:\n",
    "### Условие 4.1:\n",
    "Даны два списка.  \n",
    "Дата покупки  \n",
    "['2021-09-14', '2021-12-15', '2021-09-08', '2021-12-05', '2021-10-09', '2021-09-30', '2021-12-22', '2021-11-29', '2021-12-24', '2021-11-26', '2021-10-27', '2021-12-18', '2021-11-09', '2021-11-23', '2021-09-27', '2021-10-02', '2021-12-27', '2021-09-20', '2021-12-13', '2021-11-01', '2021-11-09', '2021-12-06', '2021-12-08', '2021-10-09', '2021-10-31', '2021-09-30', '2021-11-09', '2021-12-13', '2021-10-26', '2021-12-09']  \n",
    "Суммы покупок по датам  \n",
    "[1270, 8413, 9028, 3703, 5739, 4095, 295, 4944, 5723, 3701, 4471, 651, 7037, 4274, 6275, 4988, 6930, 2971, 6592, 2004, 2822, 519, 3406, 2732, 5015, 2008, 316, 6333, 5700, 2887]   "
   ]
  },
  {
   "cell_type": "code",
   "execution_count": 21,
   "id": "9daa601b",
   "metadata": {},
   "outputs": [
    {
     "data": {
      "text/plain": [
       "30"
      ]
     },
     "execution_count": 21,
     "metadata": {},
     "output_type": "execute_result"
    }
   ],
   "source": [
    "purchase_date = ['2021-09-14', '2021-12-15', '2021-09-08', '2021-12-05', '2021-10-09', \n",
    "                 '2021-09-30', '2021-12-22', '2021-11-29', '2021-12-24', '2021-11-26', '2021-10-27', \n",
    "                 '2021-12-18', '2021-11-09', '2021-11-23', '2021-09-27', '2021-10-02', '2021-12-27', \n",
    "                 '2021-09-20', '2021-12-13', '2021-11-01', '2021-11-09', '2021-12-06', '2021-12-08', \n",
    "                 '2021-10-09', '2021-10-31', '2021-09-30', '2021-11-09', '2021-12-13', '2021-10-26', \n",
    "                 '2021-12-09']\n",
    "len(purchase_date)"
   ]
  },
  {
   "cell_type": "code",
   "execution_count": 22,
   "id": "95dc4ba5",
   "metadata": {},
   "outputs": [
    {
     "data": {
      "text/plain": [
       "30"
      ]
     },
     "execution_count": 22,
     "metadata": {},
     "output_type": "execute_result"
    }
   ],
   "source": [
    "purchase_sum = [1270, 8413, 9028, 3703, 5739, 4095, 295, 4944, 5723, 3701, 4471, 651, 7037, \n",
    "                4274, 6275, 4988, 6930, 2971, 6592, 2004, 2822, 519, 3406, 2732, 5015, 2008, \n",
    "                316, 6333, 5700, 2887]\n",
    "len(purchase_sum)"
   ]
  },
  {
   "cell_type": "markdown",
   "id": "c6de5285",
   "metadata": {},
   "source": [
    "### 4.1 Найдите, какая выручка у компании в ноябре\n",
    "Используйте list comprehensions"
   ]
  },
  {
   "cell_type": "code",
   "execution_count": 27,
   "id": "01cb0a98",
   "metadata": {},
   "outputs": [
    {
     "name": "stdout",
     "output_type": "stream",
     "text": [
      "Выручка в ноябре: 25098\n"
     ]
    }
   ],
   "source": [
    "november_revenue = sum([purchase_sum[i] for i in range(len(purchase_date)) if purchase_date[i].split('-')[1]=='11'])\n",
    "print(f'Выручка в ноябре: {november_revenue}')"
   ]
  },
  {
   "cell_type": "markdown",
   "id": "4c4b8a0d",
   "metadata": {},
   "source": [
    "### 4.2 Найдите выручку компании в зависимости от месяца\n",
    "Для этого напишите функцию, которая на вход принимает список с датами и список с выручкой, а на выходе словарь, где ключи - это месяцы, а значения - это выручка.  \n",
    "Используйте аннотирование типов. "
   ]
  },
  {
   "cell_type": "code",
   "execution_count": 68,
   "id": "848ea8bc",
   "metadata": {},
   "outputs": [],
   "source": [
    "def revenue_dict(dates: list, revenue: list) -> dict:\n",
    "    revenue_per_month = {'09': [], '10': [], '11': [], '12': []}\n",
    "    months = {'09': 'september', '10': 'october', '11': 'november', '12': 'december'}\n",
    "    revenue = {}\n",
    "    for i in range(len(dates)):\n",
    "        revenue_per_month[purchase_date[i].split('-')[1]].append(purchase_sum[i])\n",
    "    for key, value in revenue_per_month.items():\n",
    "        revenue.setdefault(months[key], sum(value))\n",
    "    return revenue"
   ]
  },
  {
   "cell_type": "code",
   "execution_count": 69,
   "id": "4a22c955",
   "metadata": {},
   "outputs": [
    {
     "data": {
      "text/plain": [
       "{'september': 25647, 'october': 28645, 'november': 25098, 'december': 45452}"
      ]
     },
     "execution_count": 69,
     "metadata": {},
     "output_type": "execute_result"
    }
   ],
   "source": [
    "revenue_dict(purchase_date, purchase_sum)"
   ]
  },
  {
   "cell_type": "code",
   "execution_count": null,
   "id": "ce8e180e",
   "metadata": {},
   "outputs": [],
   "source": []
  }
 ],
 "metadata": {
  "kernelspec": {
   "display_name": "Python 3 (ipykernel)",
   "language": "python",
   "name": "python3"
  },
  "language_info": {
   "codemirror_mode": {
    "name": "ipython",
    "version": 3
   },
   "file_extension": ".py",
   "mimetype": "text/x-python",
   "name": "python",
   "nbconvert_exporter": "python",
   "pygments_lexer": "ipython3",
   "version": "3.10.4"
  }
 },
 "nbformat": 4,
 "nbformat_minor": 5
}
